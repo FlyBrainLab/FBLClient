{
 "cells": [
  {
   "cell_type": "markdown",
   "metadata": {},
   "source": [
    "# Introduction to FBL: Part 5: Interfacing with GFX\n",
    "\n",
    "In this demo we will show the basics of interfacing with GFX. \n",
    "\n",
    "Enter into lamina (LAM), then double-click one of the circles ('cartridges').\n",
    "\n",
    "\n",
    "Click on some neurons to enable/disable them.\n",
    "\n",
    "\n",
    "You can look at what your changes have caused by printing 'simExperimentConfig':"
   ]
  },
  {
   "cell_type": "code",
   "execution_count": 28,
   "metadata": {},
   "outputs": [
    {
     "name": "stdout",
     "output_type": "stream",
     "text": [
      "{'lamina': {}, 'cartridge': {}, 'cartridge_37': {'disabled': ['R2']}}\n"
     ]
    }
   ],
   "source": [
    "print(nm[0].simExperimentConfig)"
   ]
  },
  {
   "cell_type": "markdown",
   "metadata": {},
   "source": [
    "You can use the following two functions to update results from NeuroArch:\n",
    "\n",
    "1. nm[0].export_diagram_config\n",
    "2. nm[0].import_diagram_config\n",
    "\n",
    "Your queries will be reflected on the diagram if possible:"
   ]
  },
  {
   "cell_type": "code",
   "execution_count": 29,
   "metadata": {},
   "outputs": [
    {
     "name": "stdout",
     "output_type": "stream",
     "text": [
      "[FFBOLab Client NLP 2019-02-01 20:23:28] NLP successfully parsed query.\n",
      "[FFBOLab Client NLP 2019-02-01 20:23:31] Received a message.\n",
      "[FFBOLab Client NLP 2019-02-01 20:23:31] Received a command.\n",
      "[FFBOLab Client NLP 2019-02-01 20:23:32] Received a message.\n",
      "[FFBOLab Client NLP 2019-02-01 20:23:32] Received data.\n",
      "['lamina', 'MED', 'LAM', 'retina', 'RET']\n"
     ]
    }
   ],
   "source": [
    "res = nm[0].executeNLPquery('remove L1')"
   ]
  }
 ],
 "metadata": {
  "kernelspec": {
   "display_name": "Python 3",
   "language": "python",
   "name": "python3"
  },
  "language_info": {
   "codemirror_mode": {
    "name": "ipython",
    "version": 3
   },
   "file_extension": ".py",
   "mimetype": "text/x-python",
   "name": "python",
   "nbconvert_exporter": "python",
   "pygments_lexer": "ipython3",
   "version": "3.6.6"
  }
 },
 "nbformat": 4,
 "nbformat_minor": 2
}
