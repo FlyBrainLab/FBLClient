{
 "cells": [
  {
   "cell_type": "markdown",
   "metadata": {},
   "source": [
    "# Introduction to FBL: Part 4: Exploration\n",
    "\n",
    "In this demo we will look at some particular capabilities of FBL.\n",
    "Let us suppose that we have found information on a specific neuron:\n",
    "http://flycircuit.tw/modules.php?name=clearpage&op=detail_table&neuron=Gad1-F-400259\n",
    "\n",
    "Say we find a similar neuron; we can add them to our workspace with:"
   ]
  },
  {
   "cell_type": "code",
   "execution_count": 2,
   "metadata": {},
   "outputs": [
    {
     "name": "stdout",
     "output_type": "stream",
     "text": [
      "[FFBOLab Client NLP 2019-02-01 20:29:23] Received a message.\n",
      "[FFBOLab Client NLP 2019-02-01 20:29:23] Received data.\n"
     ]
    }
   ],
   "source": [
    "res = nm[0].addByUname(['Cha-F-800086','Gad1-F-400259'])"
   ]
  },
  {
   "cell_type": "markdown",
   "metadata": {},
   "source": [
    "We can save these neurons for later:"
   ]
  },
  {
   "cell_type": "code",
   "execution_count": 3,
   "metadata": {},
   "outputs": [],
   "source": [
    "res = nm[0].createTag('fbl_example_4')"
   ]
  },
  {
   "cell_type": "markdown",
   "metadata": {},
   "source": [
    "We can then load them back up:"
   ]
  },
  {
   "cell_type": "code",
   "execution_count": 4,
   "metadata": {},
   "outputs": [
    {
     "name": "stdout",
     "output_type": "stream",
     "text": [
      "[FFBOLab Client NLP 2019-02-01 20:29:33] Received a message.\n",
      "[FFBOLab Client NLP 2019-02-01 20:29:33] Received a command.\n",
      "[FFBOLab Client NLP 2019-02-01 20:29:33] Received data.\n"
     ]
    }
   ],
   "source": [
    "res = nm[0].loadTag('fbl_example_4')"
   ]
  },
  {
   "cell_type": "markdown",
   "metadata": {},
   "source": [
    "This allows us to store the state of a particular circuit for later.\n",
    "\n",
    "If we are using the GFX interface, we can click on neurons in the 3D view to see their presynaptic and postsynaptic targets. Otherwise, we can use the GetInfo function:"
   ]
  },
  {
   "cell_type": "code",
   "execution_count": 5,
   "metadata": {},
   "outputs": [],
   "source": [
    "res = nm[0].getInfo(nm[0].uname_to_rid['Cha-F-800086'])"
   ]
  }
 ],
 "metadata": {
  "kernelspec": {
   "display_name": "Python 3",
   "language": "python",
   "name": "python3"
  },
  "language_info": {
   "codemirror_mode": {
    "name": "ipython",
    "version": 3
   },
   "file_extension": ".py",
   "mimetype": "text/x-python",
   "name": "python",
   "nbconvert_exporter": "python",
   "pygments_lexer": "ipython3",
   "version": "3.6.6"
  }
 },
 "nbformat": 4,
 "nbformat_minor": 2
}
