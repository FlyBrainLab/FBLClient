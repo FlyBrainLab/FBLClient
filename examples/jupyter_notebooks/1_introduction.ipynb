{
 "cells": [
  {
   "cell_type": "markdown",
   "metadata": {},
   "source": [
    "# Introduction to FBL: Part 1: Introduction\n",
    "\n",
    "This example demonstrates the workflow for FBL scripts.\n",
    "FBL uses Python to interface with an FFBO backend.\n",
    "By default, each FBL kernel connects to two backends:\n",
    "* A default backend for the adult fly.\n",
    "* A second backend for the larva.\n",
    "A Client object is generated for each.\n",
    "\n",
    "\n",
    "You can address the two clients independently as follows:"
   ]
  },
  {
   "cell_type": "code",
   "execution_count": 2,
   "metadata": {},
   "outputs": [],
   "source": [
    "client_adult = nm[0] # This is the adult client\n",
    "client_larva = nm[1] # This is the larva client"
   ]
  },
  {
   "cell_type": "markdown",
   "metadata": {},
   "source": [
    "Execute an NLP query directly:"
   ]
  },
  {
   "cell_type": "code",
   "execution_count": 3,
   "metadata": {},
   "outputs": [
    {
     "name": "stdout",
     "output_type": "stream",
     "text": [
      "[FFBOLab Client NLP 2019-02-01 20:28:48] NLP successfully parsed query.\n",
      "[FFBOLab Client NLP 2019-02-01 20:28:48] Received a message.\n",
      "[FFBOLab Client NLP 2019-02-01 20:28:48] Received a command.\n",
      "[FFBOLab Client NLP 2019-02-01 20:28:49] Received data.\n",
      "[FFBOLab Client NLP 2019-02-01 20:28:49] Received data.\n",
      "[FFBOLab Client NLP 2019-02-01 20:28:50] Received data.\n",
      "[FFBOLab Client NLP 2019-02-01 20:28:50] Received data.\n",
      "[FFBOLab Client NLP 2019-02-01 20:28:50] Received a message.\n",
      "[FFBOLab Client NLP 2019-02-01 20:28:50] Received data.\n",
      "['EB']\n"
     ]
    }
   ],
   "source": [
    "res = nm[0].executeNLPquery('show neurons in the ellipsoid body')"
   ]
  },
  {
   "cell_type": "markdown",
   "metadata": {},
   "source": [
    "Auto-completion in JupyterLab will be helpful.\n",
    "\n",
    "\n",
    "Sometimes you may need to import FBL directly:"
   ]
  },
  {
   "cell_type": "code",
   "execution_count": 4,
   "metadata": {},
   "outputs": [],
   "source": [
    "import flybrainlab as fbl"
   ]
  },
  {
   "cell_type": "markdown",
   "metadata": {},
   "source": [
    "And create a new client:"
   ]
  },
  {
   "cell_type": "code",
   "execution_count": 5,
   "metadata": {},
   "outputs": [
    {
     "name": "stdout",
     "output_type": "stream",
     "text": [
      "[FFBOLab Client 2019-02-01 20:28:50] Downloading the latest certificates.\n",
      "PER MESSAGE COMPRESS PerMessageDeflate(is_server = False, server_no_context_takeover = False, client_no_context_takeover = False, server_max_window_bits = 15, client_max_window_bits = 11, mem_level = 8)\n",
      "[FFBOLab Client 2019-02-01 20:28:50] Initiating authentication.\n",
      "[FFBOLab Client 2019-02-01 20:28:50] WAMP-CRA challenge received: Challenge(method=wampcra, extra={'keylen': 32, 'challenge': '{\"nonce\": \"HaCGWNIUl61snu1Aa7nJ90vc4B0N7w5Q0ac6Z/Upm51kyvBK06nGHCAgDdQcMdbA\", \"authprovider\": \"dynamic\", \"authid\": \"Guest  \", \"timestamp\": \"2019-02-01T20:28:49.268Z\", \"authrole\": \"user\", \"authmethod\": \"wampcra\", \"session\": 6011198041324852}', 'salt': 'drosophila', 'iterations': 5000})\n",
      "drosophila\n",
      "[FFBOLab Client 2019-02-01 20:28:50] Deriving key...\n",
      "4IGF+fuHJ9KJeikzFaEO+toDSmog/rJELkki6V2vWtc=\n",
      "Subscribed to topic 'ffbo.server.update'\n",
      "[FFBOLab Client 2019-02-01 20:28:51] Procedure ffbo.ui.receive_cmd Registered...\n",
      "[FFBOLab Client 2019-02-01 20:28:51] Procedure ffbo.ui.receive_gfx Registered...\n",
      "Procedure ffbo.ui.get_circuit Registered...\n",
      "Procedure ffbo.ui.get_experiment Registered...\n",
      "[FFBOLab Client 2019-02-01 20:28:51] Procedure ffbo.ui.receive_data Registered...\n",
      "[FFBOLab Client 2019-02-01 20:28:51] Procedure ffbo.ui.receive_partial Registered...\n",
      "[FFBOLab Client 2019-02-01 20:28:51] Procedure ffbo.gfx.receive_partial Registered...\n",
      "[FFBOLab Client 2019-02-01 20:28:51] Procedure ffbo.ui.receive_msg Registered...\n",
      "[FFBOLab Client 2019-02-01 20:28:51] Found working NA Server: na_server_with_vfb_links\n"
     ]
    }
   ],
   "source": [
    "my_client = fbl.Client()"
   ]
  },
  {
   "cell_type": "markdown",
   "metadata": {},
   "source": [
    "You can write scripts to override the default client:"
   ]
  },
  {
   "cell_type": "code",
   "execution_count": 6,
   "metadata": {},
   "outputs": [],
   "source": [
    "nm[0] = my_client"
   ]
  }
 ],
 "metadata": {
  "kernelspec": {
   "display_name": "Python 3",
   "language": "python",
   "name": "python3"
  },
  "language_info": {
   "codemirror_mode": {
    "name": "ipython",
    "version": 3
   },
   "file_extension": ".py",
   "mimetype": "text/x-python",
   "name": "python",
   "nbconvert_exporter": "python",
   "pygments_lexer": "ipython3",
   "version": "3.6.6"
  }
 },
 "nbformat": 4,
 "nbformat_minor": 2
}
